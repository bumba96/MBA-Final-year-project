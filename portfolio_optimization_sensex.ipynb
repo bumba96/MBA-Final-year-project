{
 "cells": [
  {
   "cell_type": "code",
   "execution_count": 4,
   "metadata": {},
   "outputs": [],
   "source": [
    "import pandas as pd\n",
    "from pypfopt import EfficientFrontier\n",
    "from pypfopt import risk_models\n",
    "from pypfopt import expected_returns\n",
    "from pypfopt import plotting\n",
    "from pypfopt import CLA\n",
    "from pypfopt import hierarchical_portfolio\n",
    "import yfinance as yf\n",
    "import datetime as dt"
   ]
  },
  {
   "cell_type": "markdown",
   "metadata": {},
   "source": [
    "### Get all the stock tickers of Sensex"
   ]
  },
  {
   "cell_type": "code",
   "execution_count": 7,
   "metadata": {},
   "outputs": [],
   "source": [
    "ticker = [\"TCS.BO\",\"LT.BO\",\"INFY.BO\",\"AXISBANK.BO\",\"HINDUNILVR.BO\",\"HCLTECH.BO\",\"WIPRO.BO\",\"ICICIBANK.BO\",\"BAJAJFINSV.BO\",\"RELIANCE.BO\",\"TECHM.BO\",\"BAJFINANCE.BO\",\"M&M.BO\",\"MARUTI.BO\",\"ULTRACEMCO.BO\",\"POWERGRID.BO\",\"SBIN.BO\",\"BHARTIARTL.BO\",\"TITAN.BO\",\"INDUSINDBK.BO\",\"ITC.BO\",\"HDFCBANK.BO\",\"TATASTEEL.BO\",\"TATAMOTORS.BO\",\"NTPC.BO\",\"ASIANPAINT.BO\",\"KOTAKBANK.BO\",\"JSWSTEEL.BO\",\"SUNPHARMA.BO\",\"NESTLEIND.BO\"]\n",
    "prices=pd.DataFrame()"
   ]
  },
  {
   "cell_type": "markdown",
   "metadata": {},
   "source": [
    "### Extract data for last 10 years for all the stock tickers"
   ]
  },
  {
   "cell_type": "code",
   "execution_count": 10,
   "metadata": {},
   "outputs": [
    {
     "name": "stdout",
     "output_type": "stream",
     "text": [
      "[*********************100%%**********************]  1 of 1 completed\n",
      "[*********************100%%**********************]  1 of 1 completed\n",
      "[*********************100%%**********************]  1 of 1 completed\n",
      "[*********************100%%**********************]  1 of 1 completed\n",
      "[*********************100%%**********************]  1 of 1 completed\n",
      "[*********************100%%**********************]  1 of 1 completed\n",
      "[*********************100%%**********************]  1 of 1 completed\n",
      "[*********************100%%**********************]  1 of 1 completed\n",
      "[*********************100%%**********************]  1 of 1 completed\n",
      "[*********************100%%**********************]  1 of 1 completed\n",
      "[*********************100%%**********************]  1 of 1 completed\n",
      "[*********************100%%**********************]  1 of 1 completed\n",
      "[*********************100%%**********************]  1 of 1 completed\n",
      "[*********************100%%**********************]  1 of 1 completed\n",
      "[*********************100%%**********************]  1 of 1 completed\n",
      "[*********************100%%**********************]  1 of 1 completed\n",
      "[*********************100%%**********************]  1 of 1 completed\n",
      "[*********************100%%**********************]  1 of 1 completed\n",
      "[*********************100%%**********************]  1 of 1 completed\n",
      "[*********************100%%**********************]  1 of 1 completed\n",
      "[*********************100%%**********************]  1 of 1 completed\n",
      "[*********************100%%**********************]  1 of 1 completed\n",
      "[*********************100%%**********************]  1 of 1 completed\n",
      "[*********************100%%**********************]  1 of 1 completed\n",
      "[*********************100%%**********************]  1 of 1 completed\n",
      "[*********************100%%**********************]  1 of 1 completed\n",
      "[*********************100%%**********************]  1 of 1 completed\n",
      "[*********************100%%**********************]  1 of 1 completed\n",
      "[*********************100%%**********************]  1 of 1 completed\n",
      "[*********************100%%**********************]  1 of 1 completed\n",
      "                 TCS.BO        LT.BO  ...  SUNPHARMA.BO  NESTLEIND.BO\n",
      "Date                                  ...                            \n",
      "2014-01-10   909.191528   592.443665  ...    597.296814    310.183258\n",
      "2014-01-13   944.454712   607.378784  ...    590.194275    310.601562\n",
      "2014-01-14   927.659912   602.638000  ...    591.320862    308.214783\n",
      "2014-01-15   938.059448   618.967346  ...    591.369812    299.745178\n",
      "2014-01-16   936.903870   621.446167  ...    581.181396    294.644958\n",
      "...                 ...          ...  ...           ...           ...\n",
      "2024-01-01  3810.600098  3522.350098  ...   1259.900024   2736.534912\n",
      "2024-01-02  3783.250000  3439.100098  ...   1296.400024   2723.090088\n",
      "2024-01-03  3691.550049  3441.050049  ...   1298.099976   2664.034912\n",
      "2024-01-04  3667.000000  3459.149902  ...   1312.650024   2711.600098\n",
      "2024-01-05  3737.750000  3515.050049  ...   1299.849976   2666.899902\n",
      "\n",
      "[2442 rows x 30 columns]\n"
     ]
    }
   ],
   "source": [
    "end_time=dt.datetime.now()\n",
    "years=10\n",
    "start_time = end_time - dt.timedelta(days=365*years)\n",
    "for i in ticker:\n",
    "    prices_data=yf.download(i,start_time,end_time)\n",
    "    prices[i]=prices_data['Adj Close']\n",
    "print(prices)"
   ]
  },
  {
   "cell_type": "markdown",
   "metadata": {},
   "source": [
    "### Calculate daily returns"
   ]
  },
  {
   "cell_type": "code",
   "execution_count": 12,
   "metadata": {},
   "outputs": [
    {
     "name": "stdout",
     "output_type": "stream",
     "text": [
      "              TCS.BO     LT.BO  ...  SUNPHARMA.BO  NESTLEIND.BO\n",
      "Date                            ...                            \n",
      "2014-01-13  0.038785  0.025209  ...     -0.011891      0.001349\n",
      "2014-01-14 -0.017783 -0.007805  ...      0.001909     -0.007684\n",
      "2014-01-15  0.011211  0.027096  ...      0.000083     -0.027480\n",
      "2014-01-16 -0.001232  0.004005  ...     -0.017229     -0.017015\n",
      "2014-01-17 -0.057712 -0.001645  ...      0.001517      0.018525\n",
      "...              ...       ...  ...           ...           ...\n",
      "2024-01-01  0.004124 -0.001333  ...     -0.000079      0.028947\n",
      "2024-01-02 -0.007177 -0.023635  ...      0.028971     -0.004913\n",
      "2024-01-03 -0.024238  0.000567  ...      0.001311     -0.021687\n",
      "2024-01-04 -0.006650  0.005260  ...      0.011209      0.017855\n",
      "2024-01-05  0.019294  0.016160  ...     -0.009751     -0.016485\n",
      "\n",
      "[2441 rows x 30 columns]\n"
     ]
    },
    {
     "name": "stderr",
     "output_type": "stream",
     "text": [
      "C:\\Users\\manda\\AppData\\Local\\Temp\\ipykernel_22884\\3321074472.py:1: FutureWarning: The default fill_method='pad' in DataFrame.pct_change is deprecated and will be removed in a future version. Either fill in any non-leading NA values prior to calling pct_change or specify 'fill_method=None' to not fill NA values.\n",
      "  daily_return=prices.pct_change().dropna()\n"
     ]
    }
   ],
   "source": [
    "daily_return=prices.pct_change().dropna()\n",
    "print(daily_return)"
   ]
  },
  {
   "cell_type": "markdown",
   "metadata": {},
   "source": []
  }
 ],
 "metadata": {
  "kernelspec": {
   "display_name": "base",
   "language": "python",
   "name": "python3"
  },
  "language_info": {
   "codemirror_mode": {
    "name": "ipython",
    "version": 3
   },
   "file_extension": ".py",
   "mimetype": "text/x-python",
   "name": "python",
   "nbconvert_exporter": "python",
   "pygments_lexer": "ipython3",
   "version": "3.9.12"
  }
 },
 "nbformat": 4,
 "nbformat_minor": 2
}
