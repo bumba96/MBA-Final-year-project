{
 "cells": [
  {
   "cell_type": "code",
   "execution_count": 53,
   "metadata": {},
   "outputs": [],
   "source": [
    "import pandas as pd\n",
    "import numpy as np\n",
    "from pypfopt import EfficientFrontier\n",
    "from pypfopt import risk_models\n",
    "from pypfopt import expected_returns\n",
    "from pypfopt import plotting\n",
    "from pypfopt import CLA\n",
    "from pypfopt import hierarchical_portfolio\n",
    "import yfinance as yf\n",
    "import datetime as dt\n",
    "import matplotlib.pyplot as plt\n",
    "import seaborn as sns"
   ]
  },
  {
   "cell_type": "markdown",
   "metadata": {},
   "source": [
    "## Asset selection from market index SENSEX"
   ]
  },
  {
   "cell_type": "markdown",
   "metadata": {},
   "source": [
    "### Get all the stock tickers of Sensex"
   ]
  },
  {
   "cell_type": "code",
   "execution_count": 54,
   "metadata": {},
   "outputs": [],
   "source": [
    "ticker = [\"TCS.BO\",\"LT.BO\",\"INFY.BO\",\"AXISBANK.BO\",\"HINDUNILVR.BO\",\"HCLTECH.BO\",\"WIPRO.BO\",\"ICICIBANK.BO\",\"BAJAJFINSV.BO\",\"RELIANCE.BO\",\"TECHM.BO\",\"BAJFINANCE.BO\",\"M&M.BO\",\"MARUTI.BO\",\"ULTRACEMCO.BO\",\"POWERGRID.BO\",\"SBIN.BO\",\"BHARTIARTL.BO\",\"TITAN.BO\",\"INDUSINDBK.BO\",\"ITC.BO\",\"HDFCBANK.BO\",\"TATASTEEL.BO\",\"TATAMOTORS.BO\",\"NTPC.BO\",\"ASIANPAINT.BO\",\"KOTAKBANK.BO\",\"JSWSTEEL.BO\",\"SUNPHARMA.BO\",\"NESTLEIND.BO\"]\n",
    "prices=pd.DataFrame()"
   ]
  },
  {
   "cell_type": "markdown",
   "metadata": {},
   "source": [
    "### Extract data for last 1 year for all the stock tickers"
   ]
  },
  {
   "cell_type": "code",
   "execution_count": 55,
   "metadata": {},
   "outputs": [
    {
     "name": "stdout",
     "output_type": "stream",
     "text": [
      "[*********************100%%**********************]  1 of 1 completed\n",
      "[*********************100%%**********************]  1 of 1 completed"
     ]
    },
    {
     "name": "stdout",
     "output_type": "stream",
     "text": [
      "\n",
      "[*********************100%%**********************]  1 of 1 completed\n",
      "[*********************100%%**********************]  1 of 1 completed\n",
      "[*********************100%%**********************]  1 of 1 completed\n",
      "[*********************100%%**********************]  1 of 1 completed\n",
      "[*********************100%%**********************]  1 of 1 completed\n",
      "[*********************100%%**********************]  1 of 1 completed\n",
      "[*********************100%%**********************]  1 of 1 completed\n",
      "[*********************100%%**********************]  1 of 1 completed\n",
      "[*********************100%%**********************]  1 of 1 completed\n",
      "[*********************100%%**********************]  1 of 1 completed\n",
      "[*********************100%%**********************]  1 of 1 completed\n",
      "[*********************100%%**********************]  1 of 1 completed\n",
      "[*********************100%%**********************]  1 of 1 completed\n",
      "[*********************100%%**********************]  1 of 1 completed\n",
      "[*********************100%%**********************]  1 of 1 completed\n",
      "[*********************100%%**********************]  1 of 1 completed\n",
      "[*********************100%%**********************]  1 of 1 completed\n",
      "[*********************100%%**********************]  1 of 1 completed\n",
      "[*********************100%%**********************]  1 of 1 completed\n",
      "[*********************100%%**********************]  1 of 1 completed\n",
      "[*********************100%%**********************]  1 of 1 completed\n",
      "[*********************100%%**********************]  1 of 1 completed\n",
      "[*********************100%%**********************]  1 of 1 completed\n",
      "[*********************100%%**********************]  1 of 1 completed\n",
      "[*********************100%%**********************]  1 of 1 completed\n",
      "[*********************100%%**********************]  1 of 1 completed\n",
      "[*********************100%%**********************]  1 of 1 completed\n",
      "[*********************100%%**********************]  1 of 1 completed\n",
      "                 TCS.BO        LT.BO      INFY.BO  AXISBANK.BO  HINDUNILVR.BO  \\\n",
      "Date                                                                            \n",
      "2023-01-10  3172.960938  2106.449951  1432.362061   951.900024    2603.193848   \n",
      "2023-01-11  3214.141113  2124.850098  1433.384766   950.000000    2554.107910   \n",
      "2023-01-12  3219.692871  2160.199951  1442.249512   935.349976    2549.135254   \n",
      "2023-01-13  3257.928223  2153.750000  1464.605835   934.200012    2581.580322   \n",
      "2023-01-16  3292.687744  2138.199951  1485.793091   913.099976    2557.357178   \n",
      "...                 ...          ...          ...          ...            ...   \n",
      "2024-01-03  3691.550049  3441.050049  1490.199951  1099.550049    2605.300049   \n",
      "2024-01-04  3667.000000  3459.149902  1512.199951  1124.050049    2592.199951   \n",
      "2024-01-05  3737.750000  3515.050049  1532.900024  1137.099976    2620.300049   \n",
      "2024-01-08  3677.699951  3500.250000  1522.949951  1121.900024    2578.850098   \n",
      "2024-01-09  3690.149902  3554.350098  1529.150024  1115.449951    2581.100098   \n",
      "\n",
      "             HCLTECH.BO    WIPRO.BO  ICICIBANK.BO  BAJAJFINSV.BO  RELIANCE.BO  \\\n",
      "Date                                                                            \n",
      "2023-01-10  1028.359619  392.083893    853.429504    1412.755249  2548.945557   \n",
      "2023-01-11  1018.462585  392.981720    860.769104    1399.362305  2516.609863   \n",
      "2023-01-12  1034.973511  393.480499    854.173401    1387.118774  2463.397949   \n",
      "2023-01-13  1040.814941  392.682434    866.125061    1390.866821  2458.664551   \n",
      "2023-01-16  1056.215576  397.670135    858.487854    1383.570679  2436.094238   \n",
      "...                 ...         ...           ...            ...          ...   \n",
      "2024-01-03  1437.500000  455.899994    984.250000    1677.199951  2582.949951   \n",
      "2024-01-04  1419.650024  452.549988    986.450012    1701.500000  2597.399902   \n",
      "2024-01-05  1432.849976  456.750000    994.099976    1709.250000  2606.750000   \n",
      "2024-01-08  1447.449951  450.100006    982.000000    1696.699951  2586.100098   \n",
      "2024-01-09  1460.400024  450.750000    979.299988    1681.849976  2580.600098   \n",
      "\n",
      "            ...      ITC.BO  HDFCBANK.BO  TATASTEEL.BO  TATAMOTORS.BO  \\\n",
      "Date        ...                                                         \n",
      "2023-01-10  ...  333.399994  1551.511841    115.093544     413.049988   \n",
      "2023-01-11  ...  331.750000  1572.768066    115.045128     418.049988   \n",
      "2023-01-12  ...  329.649994  1581.567139    114.318832     412.200012   \n",
      "2023-01-13  ...  328.799988  1582.704102    116.642975     411.450012   \n",
      "2023-01-16  ...  329.899994  1567.281006    116.158775     413.149994   \n",
      "...         ...         ...          ...           ...            ...   \n",
      "2024-01-03  ...  477.299988  1672.849976    135.300003     781.349976   \n",
      "2024-01-04  ...  475.799988  1690.099976    134.250000     795.650024   \n",
      "2024-01-05  ...  473.899994  1682.500000    133.649994     790.549988   \n",
      "2024-01-08  ...  465.350006  1663.750000    132.050003     789.049988   \n",
      "2024-01-09  ...  464.350006  1650.400024    133.649994     799.500000   \n",
      "\n",
      "               NTPC.BO  ASIANPAINT.BO  KOTAKBANK.BO  JSWSTEEL.BO  \\\n",
      "Date                                                               \n",
      "2023-01-10  159.769089    2935.732178   1794.223755   741.775391   \n",
      "2023-01-11  158.008118    2915.601807   1800.868286   750.936768   \n",
      "2023-01-12  157.865356    2891.455322   1778.137085   760.147949   \n",
      "2023-01-13  159.721481    2884.910156   1778.436768   765.326172   \n",
      "2023-01-16  157.865356    2892.694824   1784.032227   756.065186   \n",
      "...                ...            ...           ...          ...   \n",
      "2024-01-03  306.250000    3371.600098   1866.300049   837.349976   \n",
      "2024-01-04  317.100006    3379.350098   1863.400024   836.849976   \n",
      "2024-01-05  315.000000    3355.500000   1847.900024   829.650024   \n",
      "2024-01-08  316.350006    3296.449951   1826.199951   822.150024   \n",
      "2024-01-09  319.850006    3266.850098   1825.449951   821.099976   \n",
      "\n",
      "            SUNPHARMA.BO  NESTLEIND.BO  \n",
      "Date                                    \n",
      "2023-01-10   1004.055603   1792.401001  \n",
      "2023-01-11   1020.581482   1769.414307  \n",
      "2023-01-12   1025.444946   1779.750488  \n",
      "2023-01-13   1022.864380   1771.097412  \n",
      "2023-01-16   1027.777344   1767.408813  \n",
      "...                  ...           ...  \n",
      "2024-01-03   1298.099976   2664.034912  \n",
      "2024-01-04   1312.650024   2711.600098  \n",
      "2024-01-05   1299.849976   2666.899902  \n",
      "2024-01-08   1305.050049   2619.199951  \n",
      "2024-01-09   1322.500000   2592.199951  \n",
      "\n",
      "[231 rows x 30 columns]\n"
     ]
    }
   ],
   "source": [
    "end_date=dt.datetime(2024, 1, 10)\n",
    "years=1\n",
    "start_date = end_date - dt.timedelta(days=365*years)\n",
    "for i in ticker:\n",
    "    prices_data=yf.download(i,start_date,end_date)\n",
    "    prices[i]=prices_data['Adj Close']\n",
    "print(prices)"
   ]
  },
  {
   "cell_type": "markdown",
   "metadata": {},
   "source": [
    "### Calculate daily returns"
   ]
  },
  {
   "cell_type": "code",
   "execution_count": 56,
   "metadata": {},
   "outputs": [
    {
     "name": "stdout",
     "output_type": "stream",
     "text": [
      "              TCS.BO     LT.BO   INFY.BO  AXISBANK.BO  HINDUNILVR.BO  \\\n",
      "Date                                                                   \n",
      "2023-01-11  0.012978  0.008735  0.000714    -0.001996      -0.018856   \n",
      "2023-01-12  0.001727  0.016636  0.006184    -0.015421      -0.001947   \n",
      "2023-01-13  0.011875 -0.002986  0.015501    -0.001229       0.012728   \n",
      "2023-01-16  0.010669 -0.007220  0.014466    -0.022586      -0.009383   \n",
      "2023-01-17  0.013331  0.035053  0.009507     0.005038       0.026664   \n",
      "...              ...       ...       ...          ...            ...   \n",
      "2024-01-03 -0.024238  0.000567 -0.029154     0.006131      -0.003138   \n",
      "2024-01-04 -0.006650  0.005260  0.014763     0.022282      -0.005028   \n",
      "2024-01-05  0.019294  0.016160  0.013689     0.011610       0.010840   \n",
      "2024-01-08 -0.016066 -0.004210 -0.006491    -0.013367      -0.015819   \n",
      "2024-01-09  0.003385  0.015456  0.004071    -0.005749       0.000872   \n",
      "\n",
      "            HCLTECH.BO  WIPRO.BO  ICICIBANK.BO  BAJAJFINSV.BO  RELIANCE.BO  \\\n",
      "Date                                                                         \n",
      "2023-01-11   -0.009624  0.002290      0.008600      -0.009480    -0.012686   \n",
      "2023-01-12    0.016212  0.001269     -0.007663      -0.008749    -0.021144   \n",
      "2023-01-13    0.005644 -0.002028      0.013992       0.002702    -0.001921   \n",
      "2023-01-16    0.014797  0.012702     -0.008818      -0.005246    -0.009180   \n",
      "2023-01-17    0.015632 -0.006271     -0.000058      -0.008127     0.013846   \n",
      "...                ...       ...           ...            ...          ...   \n",
      "2024-01-03   -0.021543 -0.028243      0.002189      -0.005573    -0.010705   \n",
      "2024-01-04   -0.012417 -0.007348      0.002235       0.014488     0.005594   \n",
      "2024-01-05    0.009298  0.009281      0.007755       0.004555     0.003600   \n",
      "2024-01-08    0.010189 -0.014559     -0.012172      -0.007342    -0.007922   \n",
      "2024-01-09    0.008947  0.001444     -0.002750      -0.008752    -0.002127   \n",
      "\n",
      "            ...    ITC.BO  HDFCBANK.BO  TATASTEEL.BO  TATAMOTORS.BO   NTPC.BO  \\\n",
      "Date        ...                                                                 \n",
      "2023-01-11  ... -0.004949     0.013700     -0.000421       0.012105 -0.011022   \n",
      "2023-01-12  ... -0.006330     0.005595     -0.006313      -0.013993 -0.000904   \n",
      "2023-01-13  ... -0.002579     0.000719      0.020330      -0.001820  0.011758   \n",
      "2023-01-16  ...  0.003346    -0.009745     -0.004151       0.004132 -0.011621   \n",
      "2023-01-17  ...  0.007275     0.014730     -0.005002       0.005083  0.010552   \n",
      "...         ...       ...          ...           ...            ...       ...   \n",
      "2024-01-03  ...  0.015208    -0.015536     -0.030455      -0.004079  0.000654   \n",
      "2024-01-04  ... -0.003143     0.010312     -0.007761       0.018302  0.035429   \n",
      "2024-01-05  ... -0.003993    -0.004497     -0.004469      -0.006410 -0.006623   \n",
      "2024-01-08  ... -0.018042    -0.011144     -0.011971      -0.001897  0.004286   \n",
      "2024-01-09  ... -0.002149    -0.008024      0.012117       0.013244  0.011064   \n",
      "\n",
      "            ASIANPAINT.BO  KOTAKBANK.BO  JSWSTEEL.BO  SUNPHARMA.BO  \\\n",
      "Date                                                                 \n",
      "2023-01-11      -0.006857      0.003703     0.012351      0.016459   \n",
      "2023-01-12      -0.008282     -0.012622     0.012266      0.004765   \n",
      "2023-01-13      -0.002264      0.000169     0.006812     -0.002517   \n",
      "2023-01-16       0.002698      0.003146    -0.012101      0.004803   \n",
      "2023-01-17       0.008330      0.005909    -0.002832     -0.002994   \n",
      "...                   ...           ...          ...           ...   \n",
      "2024-01-03      -0.005589      0.000751    -0.037639      0.001311   \n",
      "2024-01-04       0.002299     -0.001554    -0.000597      0.011209   \n",
      "2024-01-05      -0.007058     -0.008318    -0.008604     -0.009751   \n",
      "2024-01-08      -0.017598     -0.011743    -0.009040      0.004001   \n",
      "2024-01-09      -0.008979     -0.000411    -0.001277      0.013371   \n",
      "\n",
      "            NESTLEIND.BO  \n",
      "Date                      \n",
      "2023-01-11     -0.012825  \n",
      "2023-01-12      0.005842  \n",
      "2023-01-13     -0.004862  \n",
      "2023-01-16     -0.002083  \n",
      "2023-01-17      0.009364  \n",
      "...                  ...  \n",
      "2024-01-03     -0.021687  \n",
      "2024-01-04      0.017855  \n",
      "2024-01-05     -0.016485  \n",
      "2024-01-08     -0.017886  \n",
      "2024-01-09     -0.010308  \n",
      "\n",
      "[230 rows x 30 columns]\n",
      "Index(['TCS.BO', 'LT.BO', 'INFY.BO', 'AXISBANK.BO', 'HINDUNILVR.BO',\n",
      "       'HCLTECH.BO', 'WIPRO.BO', 'ICICIBANK.BO', 'BAJAJFINSV.BO',\n",
      "       'RELIANCE.BO', 'TECHM.BO', 'BAJFINANCE.BO', 'M&M.BO', 'MARUTI.BO',\n",
      "       'ULTRACEMCO.BO', 'POWERGRID.BO', 'SBIN.BO', 'BHARTIARTL.BO', 'TITAN.BO',\n",
      "       'INDUSINDBK.BO', 'ITC.BO', 'HDFCBANK.BO', 'TATASTEEL.BO',\n",
      "       'TATAMOTORS.BO', 'NTPC.BO', 'ASIANPAINT.BO', 'KOTAKBANK.BO',\n",
      "       'JSWSTEEL.BO', 'SUNPHARMA.BO', 'NESTLEIND.BO'],\n",
      "      dtype='object')\n"
     ]
    }
   ],
   "source": [
    "daily_return=prices.pct_change().dropna()\n",
    "print(daily_return)\n",
    "print(daily_return.columns)"
   ]
  },
  {
   "cell_type": "markdown",
   "metadata": {},
   "source": [
    "### Import risk-free rate data for last 1 year"
   ]
  },
  {
   "cell_type": "code",
   "execution_count": 57,
   "metadata": {},
   "outputs": [
    {
     "name": "stdout",
     "output_type": "stream",
     "text": [
      "            Price\n",
      "Date             \n",
      "10-01-2023  7.313\n",
      "11-01-2023  7.291\n",
      "12-01-2023  7.286\n",
      "13-01-2023  7.299\n",
      "16-01-2023  7.327\n",
      "...           ...\n",
      "04-01-2024  7.220\n",
      "05-01-2024  7.235\n",
      "08-01-2024  7.203\n",
      "09-01-2024  7.189\n",
      "10-01-2024  7.187\n",
      "\n",
      "[245 rows x 1 columns]\n",
      "Index(['Date', 'Price'], dtype='object')\n"
     ]
    }
   ],
   "source": [
    "risk_free_rate_data = pd.read_csv('C:\\\\term 6\\project work\\phase 2\\India 10-Year Bond Yield Historical Data(2).csv', index_col=0)\n",
    "print(risk_free_rate_data)\n",
    "risk_free_rate_data.reset_index(inplace=True)\n",
    "print(risk_free_rate_data.columns)"
   ]
  },
  {
   "cell_type": "code",
   "execution_count": 58,
   "metadata": {},
   "outputs": [
    {
     "name": "stdout",
     "output_type": "stream",
     "text": [
      "            Price\n",
      "Date             \n",
      "2023-01-10  7.313\n",
      "2023-01-11  7.291\n",
      "2023-01-12  7.286\n",
      "2023-01-13  7.299\n",
      "2023-01-16  7.327\n",
      "...           ...\n",
      "2024-01-04  7.220\n",
      "2024-01-05  7.235\n",
      "2024-01-08  7.203\n",
      "2024-01-09  7.189\n",
      "2024-01-10  7.187\n",
      "\n",
      "[245 rows x 1 columns]\n"
     ]
    }
   ],
   "source": [
    "risk_free_rate_data['Date'] = pd.to_datetime(risk_free_rate_data['Date'], format='%d-%m-%Y')\n",
    "risk_free_rate_data.set_index('Date', inplace=True)\n",
    "print(risk_free_rate_data)\n"
   ]
  },
  {
   "cell_type": "markdown",
   "metadata": {},
   "source": [
    "### Calculate annual risk-free rate"
   ]
  },
  {
   "cell_type": "code",
   "execution_count": 59,
   "metadata": {},
   "outputs": [
    {
     "name": "stdout",
     "output_type": "stream",
     "text": [
      "The annual risk free rate is: 0.07212832653061226\n"
     ]
    }
   ],
   "source": [
    "annual_rf=risk_free_rate_data['Price'].mean()/100\n",
    "print(f\"The annual risk free rate is: {annual_rf}\")"
   ]
  },
  {
   "cell_type": "markdown",
   "metadata": {},
   "source": [
    "### Calculate annualized return for all the stocks"
   ]
  },
  {
   "cell_type": "code",
   "execution_count": 60,
   "metadata": {},
   "outputs": [
    {
     "data": {
      "text/plain": [
       "TCS.BO           0.179919\n",
       "LT.BO            0.773953\n",
       "INFY.BO          0.074270\n",
       "AXISBANK.BO      0.189721\n",
       "HINDUNILVR.BO   -0.009295\n",
       "HCLTECH.BO       0.468579\n",
       "WIPRO.BO         0.165062\n",
       "ICICIBANK.BO     0.162688\n",
       "BAJAJFINSV.BO    0.210495\n",
       "RELIANCE.BO      0.013615\n",
       "TECHM.BO         0.307491\n",
       "BAJFINANCE.BO    0.348013\n",
       "M&M.BO           0.268712\n",
       "MARUTI.BO        0.230696\n",
       "ULTRACEMCO.BO    0.485912\n",
       "POWERGRID.BO     0.726296\n",
       "SBIN.BO          0.078321\n",
       "BHARTIARTL.BO    0.388526\n",
       "TITAN.BO         0.555118\n",
       "INDUSINDBK.BO    0.375646\n",
       "ITC.BO           0.437614\n",
       "HDFCBANK.BO      0.070042\n",
       "TATASTEEL.BO     0.177952\n",
       "TATAMOTORS.BO    1.061818\n",
       "NTPC.BO          1.139382\n",
       "ASIANPAINT.BO    0.124222\n",
       "KOTAKBANK.BO     0.019084\n",
       "JSWSTEEL.BO      0.117749\n",
       "SUNPHARMA.BO     0.352326\n",
       "NESTLEIND.BO     0.498166\n",
       "dtype: float64"
      ]
     },
     "execution_count": 60,
     "metadata": {},
     "output_type": "execute_result"
    }
   ],
   "source": [
    "annual_returns = (1 + daily_return).prod()**(252/daily_return.count()) - 1\n",
    "annual_returns"
   ]
  },
  {
   "cell_type": "markdown",
   "metadata": {},
   "source": [
    "### Calculate annualized volatility for all the stocks"
   ]
  },
  {
   "cell_type": "code",
   "execution_count": 61,
   "metadata": {},
   "outputs": [
    {
     "data": {
      "text/plain": [
       "TCS.BO           0.187429\n",
       "LT.BO            0.194437\n",
       "INFY.BO          0.245063\n",
       "AXISBANK.BO      0.188996\n",
       "HINDUNILVR.BO    0.150280\n",
       "HCLTECH.BO       0.206519\n",
       "WIPRO.BO         0.202992\n",
       "ICICIBANK.BO     0.160738\n",
       "BAJAJFINSV.BO    0.223840\n",
       "RELIANCE.BO      0.193654\n",
       "TECHM.BO         0.257124\n",
       "BAJFINANCE.BO    0.235120\n",
       "M&M.BO           0.237054\n",
       "MARUTI.BO        0.153871\n",
       "ULTRACEMCO.BO    0.190790\n",
       "POWERGRID.BO     0.206509\n",
       "SBIN.BO          0.220654\n",
       "BHARTIARTL.BO    0.175358\n",
       "TITAN.BO         0.179080\n",
       "INDUSINDBK.BO    0.253926\n",
       "ITC.BO           0.177386\n",
       "HDFCBANK.BO      0.171161\n",
       "TATASTEEL.BO     0.212843\n",
       "TATAMOTORS.BO    0.237558\n",
       "NTPC.BO          0.219128\n",
       "ASIANPAINT.BO    0.174688\n",
       "KOTAKBANK.BO     0.174423\n",
       "JSWSTEEL.BO      0.203511\n",
       "SUNPHARMA.BO     0.158855\n",
       "NESTLEIND.BO     0.185623\n",
       "dtype: float64"
      ]
     },
     "execution_count": 61,
     "metadata": {},
     "output_type": "execute_result"
    }
   ],
   "source": [
    "annual_volatility = daily_return.std() *np.sqrt(252)\n",
    "annual_volatility"
   ]
  },
  {
   "cell_type": "markdown",
   "metadata": {},
   "source": [
    "### Finding Sharpe ratio for all the stocks and select top 5 among them with maximum sharpe ratio"
   ]
  },
  {
   "cell_type": "code",
   "execution_count": 62,
   "metadata": {},
   "outputs": [
    {
     "data": {
      "text/plain": [
       "TCS.BO           0.575099\n",
       "LT.BO            3.609516\n",
       "INFY.BO          0.008740\n",
       "AXISBANK.BO      0.622197\n",
       "HINDUNILVR.BO   -0.541812\n",
       "HCLTECH.BO       1.919677\n",
       "WIPRO.BO         0.457819\n",
       "ICICIBANK.BO     0.563400\n",
       "BAJAJFINSV.BO    0.618152\n",
       "RELIANCE.BO     -0.302157\n",
       "TECHM.BO         0.915366\n",
       "BAJFINANCE.BO    1.173380\n",
       "M&M.BO           0.829276\n",
       "MARUTI.BO        1.030524\n",
       "ULTRACEMCO.BO    2.168792\n",
       "POWERGRID.BO     3.167743\n",
       "SBIN.BO          0.028067\n",
       "BHARTIARTL.BO    1.804303\n",
       "TITAN.BO         2.697066\n",
       "INDUSINDBK.BO    1.195302\n",
       "ITC.BO           2.060403\n",
       "HDFCBANK.BO     -0.012189\n",
       "TATASTEEL.BO     0.497190\n",
       "TATAMOTORS.BO    4.166099\n",
       "NTPC.BO          4.870468\n",
       "ASIANPAINT.BO    0.298212\n",
       "KOTAKBANK.BO    -0.304113\n",
       "JSWSTEEL.BO      0.224166\n",
       "SUNPHARMA.BO     1.763864\n",
       "NESTLEIND.BO     2.295175\n",
       "dtype: float64"
      ]
     },
     "execution_count": 62,
     "metadata": {},
     "output_type": "execute_result"
    }
   ],
   "source": [
    "sharpe_ratios = (annual_returns - annual_rf) / annual_volatility\n",
    "sharpe_ratios\n"
   ]
  },
  {
   "cell_type": "code",
   "execution_count": 63,
   "metadata": {},
   "outputs": [
    {
     "name": "stdout",
     "output_type": "stream",
     "text": [
      "NTPC.BO          4.870468\n",
      "TATAMOTORS.BO    4.166099\n",
      "LT.BO            3.609516\n",
      "POWERGRID.BO     3.167743\n",
      "TITAN.BO         2.697066\n",
      "dtype: float64\n"
     ]
    }
   ],
   "source": [
    "print(sharpe_ratios.nlargest())"
   ]
  },
  {
   "cell_type": "markdown",
   "metadata": {},
   "source": [
    "## 5- Asset Portfolio Optimization"
   ]
  },
  {
   "cell_type": "markdown",
   "metadata": {},
   "source": [
    "### Extract market price data for these 5 stocks from the original data frame "
   ]
  },
  {
   "cell_type": "code",
   "execution_count": 64,
   "metadata": {},
   "outputs": [
    {
     "data": {
      "text/html": [
       "<div>\n",
       "<style scoped>\n",
       "    .dataframe tbody tr th:only-of-type {\n",
       "        vertical-align: middle;\n",
       "    }\n",
       "\n",
       "    .dataframe tbody tr th {\n",
       "        vertical-align: top;\n",
       "    }\n",
       "\n",
       "    .dataframe thead th {\n",
       "        text-align: right;\n",
       "    }\n",
       "</style>\n",
       "<table border=\"1\" class=\"dataframe\">\n",
       "  <thead>\n",
       "    <tr style=\"text-align: right;\">\n",
       "      <th></th>\n",
       "      <th>NTPC.BO</th>\n",
       "      <th>TATAMOTORS.BO</th>\n",
       "      <th>LT.BO</th>\n",
       "      <th>POWERGRID.BO</th>\n",
       "      <th>TITAN.BO</th>\n",
       "    </tr>\n",
       "    <tr>\n",
       "      <th>Date</th>\n",
       "      <th></th>\n",
       "      <th></th>\n",
       "      <th></th>\n",
       "      <th></th>\n",
       "      <th></th>\n",
       "    </tr>\n",
       "  </thead>\n",
       "  <tbody>\n",
       "    <tr>\n",
       "      <th>2023-01-10</th>\n",
       "      <td>159.769089</td>\n",
       "      <td>413.049988</td>\n",
       "      <td>2106.449951</td>\n",
       "      <td>147.180115</td>\n",
       "      <td>2467.300049</td>\n",
       "    </tr>\n",
       "    <tr>\n",
       "      <th>2023-01-11</th>\n",
       "      <td>158.008118</td>\n",
       "      <td>418.049988</td>\n",
       "      <td>2124.850098</td>\n",
       "      <td>147.458054</td>\n",
       "      <td>2437.600098</td>\n",
       "    </tr>\n",
       "    <tr>\n",
       "      <th>2023-01-12</th>\n",
       "      <td>157.865356</td>\n",
       "      <td>412.200012</td>\n",
       "      <td>2160.199951</td>\n",
       "      <td>148.430923</td>\n",
       "      <td>2445.649902</td>\n",
       "    </tr>\n",
       "    <tr>\n",
       "      <th>2023-01-13</th>\n",
       "      <td>159.721481</td>\n",
       "      <td>411.450012</td>\n",
       "      <td>2153.750000</td>\n",
       "      <td>148.639389</td>\n",
       "      <td>2417.649902</td>\n",
       "    </tr>\n",
       "    <tr>\n",
       "      <th>2023-01-16</th>\n",
       "      <td>157.865356</td>\n",
       "      <td>413.149994</td>\n",
       "      <td>2138.199951</td>\n",
       "      <td>149.855469</td>\n",
       "      <td>2405.800049</td>\n",
       "    </tr>\n",
       "    <tr>\n",
       "      <th>...</th>\n",
       "      <td>...</td>\n",
       "      <td>...</td>\n",
       "      <td>...</td>\n",
       "      <td>...</td>\n",
       "      <td>...</td>\n",
       "    </tr>\n",
       "    <tr>\n",
       "      <th>2024-01-03</th>\n",
       "      <td>306.250000</td>\n",
       "      <td>781.349976</td>\n",
       "      <td>3441.050049</td>\n",
       "      <td>236.949997</td>\n",
       "      <td>3692.600098</td>\n",
       "    </tr>\n",
       "    <tr>\n",
       "      <th>2024-01-04</th>\n",
       "      <td>317.100006</td>\n",
       "      <td>795.650024</td>\n",
       "      <td>3459.149902</td>\n",
       "      <td>241.449997</td>\n",
       "      <td>3721.250000</td>\n",
       "    </tr>\n",
       "    <tr>\n",
       "      <th>2024-01-05</th>\n",
       "      <td>315.000000</td>\n",
       "      <td>790.549988</td>\n",
       "      <td>3515.050049</td>\n",
       "      <td>241.300003</td>\n",
       "      <td>3710.050049</td>\n",
       "    </tr>\n",
       "    <tr>\n",
       "      <th>2024-01-08</th>\n",
       "      <td>316.350006</td>\n",
       "      <td>789.049988</td>\n",
       "      <td>3500.250000</td>\n",
       "      <td>242.250000</td>\n",
       "      <td>3705.699951</td>\n",
       "    </tr>\n",
       "    <tr>\n",
       "      <th>2024-01-09</th>\n",
       "      <td>319.850006</td>\n",
       "      <td>799.500000</td>\n",
       "      <td>3554.350098</td>\n",
       "      <td>242.250000</td>\n",
       "      <td>3691.850098</td>\n",
       "    </tr>\n",
       "  </tbody>\n",
       "</table>\n",
       "<p>231 rows × 5 columns</p>\n",
       "</div>"
      ],
      "text/plain": [
       "               NTPC.BO  TATAMOTORS.BO        LT.BO  POWERGRID.BO     TITAN.BO\n",
       "Date                                                                         \n",
       "2023-01-10  159.769089     413.049988  2106.449951    147.180115  2467.300049\n",
       "2023-01-11  158.008118     418.049988  2124.850098    147.458054  2437.600098\n",
       "2023-01-12  157.865356     412.200012  2160.199951    148.430923  2445.649902\n",
       "2023-01-13  159.721481     411.450012  2153.750000    148.639389  2417.649902\n",
       "2023-01-16  157.865356     413.149994  2138.199951    149.855469  2405.800049\n",
       "...                ...            ...          ...           ...          ...\n",
       "2024-01-03  306.250000     781.349976  3441.050049    236.949997  3692.600098\n",
       "2024-01-04  317.100006     795.650024  3459.149902    241.449997  3721.250000\n",
       "2024-01-05  315.000000     790.549988  3515.050049    241.300003  3710.050049\n",
       "2024-01-08  316.350006     789.049988  3500.250000    242.250000  3705.699951\n",
       "2024-01-09  319.850006     799.500000  3554.350098    242.250000  3691.850098\n",
       "\n",
       "[231 rows x 5 columns]"
      ]
     },
     "execution_count": 64,
     "metadata": {},
     "output_type": "execute_result"
    }
   ],
   "source": [
    "top_5_stocks=['NTPC.BO', 'TATAMOTORS.BO', 'LT.BO', 'POWERGRID.BO', 'TITAN.BO']\n",
    "top_5_stocks_prices=prices[top_5_stocks]\n",
    "top_5_stocks_prices"
   ]
  },
  {
   "cell_type": "markdown",
   "metadata": {},
   "source": [
    "### Plotting market price movement for these stocks"
   ]
  },
  {
   "cell_type": "code",
   "execution_count": 65,
   "metadata": {},
   "outputs": [
    {
     "data": {
      "image/png": "[encoded data removed]",
      "text/plain": [
       "<Figure size 1008x720 with 1 Axes>"
      ]
     },
     "metadata": {
      "needs_background": "light"
     },
     "output_type": "display_data"
    }
   ],
   "source": [
    "my_stocks=top_5_stocks_prices\n",
    "plt.figure(figsize=(14,10))\n",
    "for c in my_stocks.columns.values:\n",
    "    plt.plot(my_stocks[c],label=c)\n",
    "plt.title(\"Adj. Close price history of Stocks\")\n",
    "plt.xlabel('Date',fontsize=18)\n",
    "plt.ylabel('Adj. Closing price INR (Rs.)')\n",
    "plt.legend(my_stocks.columns.values, loc='upper left')\n",
    "plt.show()"
   ]
  },
  {
   "cell_type": "markdown",
   "metadata": {},
   "source": [
    "### Calculate daily returns"
   ]
  },
  {
   "cell_type": "code",
   "execution_count": 66,
   "metadata": {},
   "outputs": [
    {
     "data": {
      "text/html": [
       "<div>\n",
       "<style scoped>\n",
       "    .dataframe tbody tr th:only-of-type {\n",
       "        vertical-align: middle;\n",
       "    }\n",
       "\n",
       "    .dataframe tbody tr th {\n",
       "        vertical-align: top;\n",
       "    }\n",
       "\n",
       "    .dataframe thead th {\n",
       "        text-align: right;\n",
       "    }\n",
       "</style>\n",
       "<table border=\"1\" class=\"dataframe\">\n",
       "  <thead>\n",
       "    <tr style=\"text-align: right;\">\n",
       "      <th></th>\n",
       "      <th>NTPC.BO</th>\n",
       "      <th>TATAMOTORS.BO</th>\n",
       "      <th>LT.BO</th>\n",
       "      <th>POWERGRID.BO</th>\n",
       "      <th>TITAN.BO</th>\n",
       "    </tr>\n",
       "    <tr>\n",
       "      <th>Date</th>\n",
       "      <th></th>\n",
       "      <th></th>\n",
       "      <th></th>\n",
       "      <th></th>\n",
       "      <th></th>\n",
       "    </tr>\n",
       "  </thead>\n",
       "  <tbody>\n",
       "    <tr>\n",
       "      <th>2023-01-11</th>\n",
       "      <td>-0.011022</td>\n",
       "      <td>0.012105</td>\n",
       "      <td>0.008735</td>\n",
       "      <td>0.001888</td>\n",
       "      <td>-0.012037</td>\n",
       "    </tr>\n",
       "    <tr>\n",
       "      <th>2023-01-12</th>\n",
       "      <td>-0.000904</td>\n",
       "      <td>-0.013993</td>\n",
       "      <td>0.016636</td>\n",
       "      <td>0.006598</td>\n",
       "      <td>0.003302</td>\n",
       "    </tr>\n",
       "    <tr>\n",
       "      <th>2023-01-13</th>\n",
       "      <td>0.011758</td>\n",
       "      <td>-0.001820</td>\n",
       "      <td>-0.002986</td>\n",
       "      <td>0.001404</td>\n",
       "      <td>-0.011449</td>\n",
       "    </tr>\n",
       "    <tr>\n",
       "      <th>2023-01-16</th>\n",
       "      <td>-0.011621</td>\n",
       "      <td>0.004132</td>\n",
       "      <td>-0.007220</td>\n",
       "      <td>0.008181</td>\n",
       "      <td>-0.004901</td>\n",
       "    </tr>\n",
       "    <tr>\n",
       "      <th>2023-01-17</th>\n",
       "      <td>0.010552</td>\n",
       "      <td>0.005083</td>\n",
       "      <td>0.035053</td>\n",
       "      <td>0.012752</td>\n",
       "      <td>0.001122</td>\n",
       "    </tr>\n",
       "    <tr>\n",
       "      <th>...</th>\n",
       "      <td>...</td>\n",
       "      <td>...</td>\n",
       "      <td>...</td>\n",
       "      <td>...</td>\n",
       "      <td>...</td>\n",
       "    </tr>\n",
       "    <tr>\n",
       "      <th>2024-01-03</th>\n",
       "      <td>0.000654</td>\n",
       "      <td>-0.004079</td>\n",
       "      <td>0.000567</td>\n",
       "      <td>-0.003365</td>\n",
       "      <td>-0.001136</td>\n",
       "    </tr>\n",
       "    <tr>\n",
       "      <th>2024-01-04</th>\n",
       "      <td>0.035429</td>\n",
       "      <td>0.018302</td>\n",
       "      <td>0.005260</td>\n",
       "      <td>0.018991</td>\n",
       "      <td>0.007759</td>\n",
       "    </tr>\n",
       "    <tr>\n",
       "      <th>2024-01-05</th>\n",
       "      <td>-0.006623</td>\n",
       "      <td>-0.006410</td>\n",
       "      <td>0.016160</td>\n",
       "      <td>-0.000621</td>\n",
       "      <td>-0.003010</td>\n",
       "    </tr>\n",
       "    <tr>\n",
       "      <th>2024-01-08</th>\n",
       "      <td>0.004286</td>\n",
       "      <td>-0.001897</td>\n",
       "      <td>-0.004210</td>\n",
       "      <td>0.003937</td>\n",
       "      <td>-0.001173</td>\n",
       "    </tr>\n",
       "    <tr>\n",
       "      <th>2024-01-09</th>\n",
       "      <td>0.011064</td>\n",
       "      <td>0.013244</td>\n",
       "      <td>0.015456</td>\n",
       "      <td>0.000000</td>\n",
       "      <td>-0.003737</td>\n",
       "    </tr>\n",
       "  </tbody>\n",
       "</table>\n",
       "<p>230 rows × 5 columns</p>\n",
       "</div>"
      ],
      "text/plain": [
       "             NTPC.BO  TATAMOTORS.BO     LT.BO  POWERGRID.BO  TITAN.BO\n",
       "Date                                                                 \n",
       "2023-01-11 -0.011022       0.012105  0.008735      0.001888 -0.012037\n",
       "2023-01-12 -0.000904      -0.013993  0.016636      0.006598  0.003302\n",
       "2023-01-13  0.011758      -0.001820 -0.002986      0.001404 -0.011449\n",
       "2023-01-16 -0.011621       0.004132 -0.007220      0.008181 -0.004901\n",
       "2023-01-17  0.010552       0.005083  0.035053      0.012752  0.001122\n",
       "...              ...            ...       ...           ...       ...\n",
       "2024-01-03  0.000654      -0.004079  0.000567     -0.003365 -0.001136\n",
       "2024-01-04  0.035429       0.018302  0.005260      0.018991  0.007759\n",
       "2024-01-05 -0.006623      -0.006410  0.016160     -0.000621 -0.003010\n",
       "2024-01-08  0.004286      -0.001897 -0.004210      0.003937 -0.001173\n",
       "2024-01-09  0.011064       0.013244  0.015456      0.000000 -0.003737\n",
       "\n",
       "[230 rows x 5 columns]"
      ]
     },
     "execution_count": 66,
     "metadata": {},
     "output_type": "execute_result"
    }
   ],
   "source": [
    "daily_return_top_5_stocks=top_5_stocks_prices.pct_change().dropna()\n",
    "daily_return_top_5_stocks"
   ]
  },
  {
   "cell_type": "markdown",
   "metadata": {},
   "source": [
    "### Calculate annualized covariance matrix for these 5 stocks"
   ]
  },
  {
   "cell_type": "code",
   "execution_count": 67,
   "metadata": {},
   "outputs": [
    {
     "data": {
      "text/html": [
       "<div>\n",
       "<style scoped>\n",
       "    .dataframe tbody tr th:only-of-type {\n",
       "        vertical-align: middle;\n",
       "    }\n",
       "\n",
       "    .dataframe tbody tr th {\n",
       "        vertical-align: top;\n",
       "    }\n",
       "\n",
       "    .dataframe thead th {\n",
       "        text-align: right;\n",
       "    }\n",
       "</style>\n",
       "<table border=\"1\" class=\"dataframe\">\n",
       "  <thead>\n",
       "    <tr style=\"text-align: right;\">\n",
       "      <th></th>\n",
       "      <th>NTPC.BO</th>\n",
       "      <th>TATAMOTORS.BO</th>\n",
       "      <th>LT.BO</th>\n",
       "      <th>POWERGRID.BO</th>\n",
       "      <th>TITAN.BO</th>\n",
       "    </tr>\n",
       "  </thead>\n",
       "  <tbody>\n",
       "    <tr>\n",
       "      <th>NTPC.BO</th>\n",
       "      <td>0.048017</td>\n",
       "      <td>0.011828</td>\n",
       "      <td>0.007625</td>\n",
       "      <td>0.020198</td>\n",
       "      <td>0.008898</td>\n",
       "    </tr>\n",
       "    <tr>\n",
       "      <th>TATAMOTORS.BO</th>\n",
       "      <td>0.011828</td>\n",
       "      <td>0.056434</td>\n",
       "      <td>0.007162</td>\n",
       "      <td>0.010835</td>\n",
       "      <td>0.009995</td>\n",
       "    </tr>\n",
       "    <tr>\n",
       "      <th>LT.BO</th>\n",
       "      <td>0.007625</td>\n",
       "      <td>0.007162</td>\n",
       "      <td>0.037806</td>\n",
       "      <td>0.008537</td>\n",
       "      <td>0.006166</td>\n",
       "    </tr>\n",
       "    <tr>\n",
       "      <th>POWERGRID.BO</th>\n",
       "      <td>0.020198</td>\n",
       "      <td>0.010835</td>\n",
       "      <td>0.008537</td>\n",
       "      <td>0.042646</td>\n",
       "      <td>0.008506</td>\n",
       "    </tr>\n",
       "    <tr>\n",
       "      <th>TITAN.BO</th>\n",
       "      <td>0.008898</td>\n",
       "      <td>0.009995</td>\n",
       "      <td>0.006166</td>\n",
       "      <td>0.008506</td>\n",
       "      <td>0.032070</td>\n",
       "    </tr>\n",
       "  </tbody>\n",
       "</table>\n",
       "</div>"
      ],
      "text/plain": [
       "                NTPC.BO  TATAMOTORS.BO     LT.BO  POWERGRID.BO  TITAN.BO\n",
       "NTPC.BO        0.048017       0.011828  0.007625      0.020198  0.008898\n",
       "TATAMOTORS.BO  0.011828       0.056434  0.007162      0.010835  0.009995\n",
       "LT.BO          0.007625       0.007162  0.037806      0.008537  0.006166\n",
       "POWERGRID.BO   0.020198       0.010835  0.008537      0.042646  0.008506\n",
       "TITAN.BO       0.008898       0.009995  0.006166      0.008506  0.032070"
      ]
     },
     "execution_count": 67,
     "metadata": {},
     "output_type": "execute_result"
    }
   ],
   "source": [
    "cov_matrix_annual=daily_return_top_5_stocks.cov()*252\n",
    "cov_matrix_annual"
   ]
  },
  {
   "cell_type": "markdown",
   "metadata": {},
   "source": [
    "### Taking a equal weighted portfolio"
   ]
  },
  {
   "cell_type": "code",
   "execution_count": 68,
   "metadata": {},
   "outputs": [
    {
     "name": "stdout",
     "output_type": "stream",
     "text": [
      "[0.2 0.2 0.2 0.2 0.2]\n"
     ]
    }
   ],
   "source": [
    "weights=np.array([1/len(top_5_stocks)]*len(top_5_stocks))\n",
    "print(weights)"
   ]
  },
  {
   "cell_type": "code",
   "execution_count": 69,
   "metadata": {},
   "outputs": [],
   "source": [
    "port_variance=np.dot(weights.T,np.dot(cov_matrix_annual,weights))\n",
    "port_volatility=np.sqrt(port_variance)"
   ]
  },
  {
   "cell_type": "markdown",
   "metadata": {},
   "source": [
    "### Portfolio performance for an equally weighted portfolio"
   ]
  },
  {
   "cell_type": "code",
   "execution_count": 70,
   "metadata": {},
   "outputs": [
    {
     "name": "stdout",
     "output_type": "stream",
     "text": [
      "Expected annual return(equally weighted portfolio): 63.1%\n",
      "Annual volatility(equally weighted portfolio): 12.9%\n",
      "Sharpe Ratio: 4.33\n"
     ]
    }
   ],
   "source": [
    "port_return=np.sum(daily_return_top_5_stocks.mean()*weights)*252\n",
    "print(f\"Expected annual return(equally weighted portfolio): {port_return*100:.1f}%\")\n",
    "print(f\"Annual volatility(equally weighted portfolio): {port_volatility*100:.1f}%\")\n",
    "sr = (port_return - annual_rf) / port_volatility\n",
    "print(f\"Sharpe Ratio: {sr:.2f}\")"
   ]
  },
  {
   "cell_type": "markdown",
   "metadata": {},
   "source": [
    "### Calculating expected returns and covariance matrix for the chosen assets"
   ]
  },
  {
   "cell_type": "code",
   "execution_count": 71,
   "metadata": {},
   "outputs": [
    {
     "data": {
      "text/plain": [
       "NTPC.BO          1.139382\n",
       "TATAMOTORS.BO    1.061818\n",
       "LT.BO            0.773953\n",
       "POWERGRID.BO     0.726296\n",
       "TITAN.BO         0.555118\n",
       "dtype: float64"
      ]
     },
     "execution_count": 71,
     "metadata": {},
     "output_type": "execute_result"
    }
   ],
   "source": [
    "ret=expected_returns.mean_historical_return(top_5_stocks_prices)\n",
    "risk=risk_models.sample_cov(top_5_stocks_prices)\n",
    "ret"
   ]
  },
  {
   "cell_type": "markdown",
   "metadata": {},
   "source": [
    "### Optimizing the portfolio on the basis of maximum sharpe ratio"
   ]
  },
  {
   "cell_type": "code",
   "execution_count": 72,
   "metadata": {},
   "outputs": [
    {
     "name": "stdout",
     "output_type": "stream",
     "text": [
      "Expected annual return: 95.4%\n",
      "Annual volatility: 13.9%\n",
      "Sharpe Ratio: 6.33\n"
     ]
    },
    {
     "name": "stderr",
     "output_type": "stream",
     "text": [
      "c:\\Users\\manda\\anaconda3\\lib\\site-packages\\pypfopt\\efficient_frontier\\efficient_frontier.py:441: UserWarning: The risk_free_rate provided to portfolio_performance is different to the one used by max_sharpe. Using the previous value.\n",
      "  warnings.warn(\n"
     ]
    },
    {
     "data": {
      "text/plain": [
       "(0.9537182180559455, 0.1391823608553661, 6.334063354777072)"
      ]
     },
     "execution_count": 72,
     "metadata": {},
     "output_type": "execute_result"
    }
   ],
   "source": [
    "top_5_stocks_prices_opt=EfficientFrontier(ret,risk)\n",
    "raw_weights=top_5_stocks_prices_opt.max_sharpe(risk_free_rate=annual_rf)\n",
    "cleaned_weights = top_5_stocks_prices_opt.clean_weights()\n",
    "top_5_stocks_prices_opt.portfolio_performance(verbose=True)"
   ]
  },
  {
   "cell_type": "markdown",
   "metadata": {},
   "source": [
    "### Weights assigned to each asset for the optimized portfolio"
   ]
  },
  {
   "cell_type": "code",
   "execution_count": 73,
   "metadata": {},
   "outputs": [
    {
     "name": "stdout",
     "output_type": "stream",
     "text": [
      "NTPC.BO: 0.35\n",
      "TATAMOTORS.BO: 0.25\n",
      "LT.BO: 0.27\n",
      "POWERGRID.BO: 0.03\n",
      "TITAN.BO: 0.09\n"
     ]
    }
   ],
   "source": [
    "for key, value in cleaned_weights.items():\n",
    "    print(f\"{key}: {value:.2f}\")"
   ]
  },
  {
   "cell_type": "markdown",
   "metadata": {},
   "source": [
    "### Plotting the efficient frontier"
   ]
  },
  {
   "cell_type": "code",
   "execution_count": 75,
   "metadata": {},
   "outputs": [
    {
     "data": {
      "image/png": "[encoded data removed]",
      "text/plain": [
       "<Figure size 720x432 with 2 Axes>"
      ]
     },
     "metadata": {
      "needs_background": "light"
     },
     "output_type": "display_data"
    }
   ],
   "source": [
    "num_portfolios = 10000\n",
    "\n",
    "# Risk free rate\n",
    "risk_free_rate = annual_rf  \n",
    "\n",
    "# Initialize arrays to store the portfolio weights, returns and volatilities\n",
    "weights_arr = np.zeros((num_portfolios, len(ret)))\n",
    "returns_arr = np.zeros(num_portfolios)\n",
    "volatility_arr = np.zeros(num_portfolios)\n",
    "\n",
    "for i in range(num_portfolios):\n",
    "    # Generate random portfolio weights that sum to 1\n",
    "    weights = np.random.random(len(ret))\n",
    "    weights /= np.sum(weights)\n",
    "    weights_arr[i, :] = weights\n",
    "\n",
    "    # Calculate the portfolio return and volatility\n",
    "    returns_arr[i] = np.sum(ret * weights)\n",
    "    volatility_arr[i] = np.sqrt(np.dot(weights.T, np.dot(risk, weights)))\n",
    "\n",
    "# Calculate the Sharpe Ratio for each portfolio\n",
    "sharpe_ratio_arr = (returns_arr - risk_free_rate) / volatility_arr\n",
    "\n",
    "# Plot the efficient frontier\n",
    "plt.figure(figsize=(10, 6))\n",
    "plt.scatter(volatility_arr, returns_arr, c=sharpe_ratio_arr, marker='o', s=50)\n",
    "plt.grid(True)\n",
    "plt.xlabel('Expected Volatility')\n",
    "plt.ylabel('Expected Return')\n",
    "plt.colorbar(label='Sharpe ratio')\n",
    "\n",
    "# Add a marker for the optimal portfolio\n",
    "optimal_volatility = 0.139 \n",
    "optimal_return = 0.954\n",
    "optimal_sharpe = 6.33\n",
    "plt.scatter(optimal_volatility, optimal_return, marker='x', color='r', s=100, label='Optimal Portfolio')\n",
    "plt.text(optimal_volatility, optimal_return, 'Return: 95.4%, Volatility: 13.9%, Sharpe Ratio: 6.33', fontsize=12)\n",
    "\n",
    "\n",
    "plt.legend()\n",
    "\n",
    "plt.show()"
   ]
  }
 ],
 "metadata": {
  "kernelspec": {
   "display_name": "base",
   "language": "python",
   "name": "python3"
  },
  "language_info": {
   "codemirror_mode": {
    "name": "ipython",
    "version": 3
   },
   "file_extension": ".py",
   "mimetype": "text/x-python",
   "name": "python",
   "nbconvert_exporter": "python",
   "pygments_lexer": "ipython3",
   "version": "3.9.12"
  }
 },
 "nbformat": 4,
 "nbformat_minor": 2
}
